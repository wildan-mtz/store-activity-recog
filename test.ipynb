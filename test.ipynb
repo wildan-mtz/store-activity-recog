{
 "cells": [
  {
   "cell_type": "code",
   "execution_count": 1,
   "metadata": {},
   "outputs": [],
   "source": [
    "import sqlite3\n",
    "from config.default_cfg import Config"
   ]
  },
  {
   "cell_type": "code",
   "execution_count": 4,
   "metadata": {},
   "outputs": [],
   "source": [
    "cfg = Config()"
   ]
  },
  {
   "cell_type": "code",
   "execution_count": 6,
   "metadata": {},
   "outputs": [
    {
     "data": {
      "text/plain": [
       "'D:\\\\PROJECT\\\\store_activity_recognition/db/store_data.db'"
      ]
     },
     "execution_count": 6,
     "metadata": {},
     "output_type": "execute_result"
    }
   ],
   "source": [
    "db_name = cfg.db\n",
    "db_name"
   ]
  },
  {
   "cell_type": "code",
   "execution_count": 3,
   "metadata": {},
   "outputs": [
    {
     "name": "stdout",
     "output_type": "stream",
     "text": [
      "Database telah dibuat dan berhasil terkoneksi ke SQLite\n"
     ]
    }
   ],
   "source": [
    "\n",
    "koneksi = sqlite3.connect('analytic.db')\n",
    "cursor = koneksi.cursor()\n",
    "print(\"Database telah dibuat dan berhasil terkoneksi ke SQLite\")"
   ]
  },
  {
   "cell_type": "code",
   "execution_count": 4,
   "metadata": {},
   "outputs": [],
   "source": [
    "# bagian membuat tabel\n",
    "buat_tabel = '''CREATE TABLE IF NOT EXISTS ANALITIK (\n",
    "                        hasil TEXT);'''\n",
    "\n",
    "cursor.execute(buat_tabel)\n",
    "koneksi.commit()"
   ]
  },
  {
   "cell_type": "code",
   "execution_count": 7,
   "metadata": {},
   "outputs": [
    {
     "ename": "OperationalError",
     "evalue": "table ANALITIK has 1 columns but 4 values were supplied",
     "output_type": "error",
     "traceback": [
      "\u001b[1;31m---------------------------------------------------------------------------\u001b[0m",
      "\u001b[1;31mOperationalError\u001b[0m                          Traceback (most recent call last)",
      "Cell \u001b[1;32mIn[7], line 3\u001b[0m\n\u001b[0;32m      1\u001b[0m \u001b[39m# input 1 data\u001b[39;00m\n\u001b[0;32m      2\u001b[0m result \u001b[39m=\u001b[39m (\u001b[39m\"\u001b[39m\u001b[39m{\u001b[39m\u001b[39m'\u001b[39m\u001b[39mregion1\u001b[39m\u001b[39m'\u001b[39m\u001b[39m: [3, 26], \u001b[39m\u001b[39m'\u001b[39m\u001b[39mregion2\u001b[39m\u001b[39m'\u001b[39m\u001b[39m: [3, 26], \u001b[39m\u001b[39m'\u001b[39m\u001b[39mregion3\u001b[39m\u001b[39m'\u001b[39m\u001b[39m: [3, 26], \u001b[39m\u001b[39m'\u001b[39m\u001b[39mregion4\u001b[39m\u001b[39m'\u001b[39m\u001b[39m: [3, 26]}\u001b[39m\u001b[39m\"\u001b[39m)\n\u001b[1;32m----> 3\u001b[0m cursor\u001b[39m.\u001b[39;49mexecute(\u001b[39m\"\u001b[39;49m\u001b[39mINSERT INTO ANALITIK VALUES(?, ?, ?, ?);\u001b[39;49m\u001b[39m\"\u001b[39;49m, result)\n\u001b[0;32m      4\u001b[0m koneksi\u001b[39m.\u001b[39mcommit()\n",
      "\u001b[1;31mOperationalError\u001b[0m: table ANALITIK has 1 columns but 4 values were supplied"
     ]
    }
   ],
   "source": [
    "# input 1 data\n",
    "result = (\"{'region1': [3, 26], 'region2': [3, 26], 'region3': [3, 26], 'region4': [3, 26]}\")\n",
    "cursor.execute(\"INSERT INTO ANALITIK VALUES(?);\", result)\n",
    "koneksi.commit()"
   ]
  },
  {
   "cell_type": "code",
   "execution_count": null,
   "metadata": {},
   "outputs": [],
   "source": []
  }
 ],
 "metadata": {
  "kernelspec": {
   "display_name": "DS",
   "language": "python",
   "name": "python3"
  },
  "language_info": {
   "codemirror_mode": {
    "name": "ipython",
    "version": 3
   },
   "file_extension": ".py",
   "mimetype": "text/x-python",
   "name": "python",
   "nbconvert_exporter": "python",
   "pygments_lexer": "ipython3",
   "version": "3.8.0"
  },
  "orig_nbformat": 4
 },
 "nbformat": 4,
 "nbformat_minor": 2
}
